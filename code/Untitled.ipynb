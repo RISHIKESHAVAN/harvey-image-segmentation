{
 "cells": [
  {
   "cell_type": "code",
   "execution_count": 4,
   "id": "c3cafe38",
   "metadata": {},
   "outputs": [],
   "source": [
    "a = \"aacdd\"\n",
    "costs = [0,1,2,3,4]"
   ]
  },
  {
   "cell_type": "code",
   "execution_count": 3,
   "id": "5a9cb691",
   "metadata": {},
   "outputs": [
    {
     "name": "stdout",
     "output_type": "stream",
     "text": [
      "0 a\n",
      "1 a\n",
      "2 c\n",
      "3 d\n",
      "4 d\n"
     ]
    }
   ],
   "source": [
    "d = {}\n",
    "for i,c in enumerate(a):\n",
    "    print(i,c)"
   ]
  },
  {
   "cell_type": "code",
   "execution_count": null,
   "id": "c62dfa94",
   "metadata": {},
   "outputs": [],
   "source": [
    "d = {}\n",
    "cost = 0\n",
    "for i,c in enumerate(a):\n",
    "    if c in d:\n",
    "        prev_ind = d[c]\n",
    "        if(prev_ind == i-1):\n",
    "            cost += costs[prev_ind]\n",
    "        d[c] = i\n",
    "    else:\n",
    "        d[c] = i"
   ]
  }
 ],
 "metadata": {
  "kernelspec": {
   "display_name": "Python 3.8.8 64-bit ('base': conda)",
   "language": "python",
   "name": "python388jvsc74a57bd0c5dbf06111b0e88c60f13c4f139a085a045d8072a2a00c241ed45b1338ab4a28"
  },
  "language_info": {
   "codemirror_mode": {
    "name": "ipython",
    "version": 3
   },
   "file_extension": ".py",
   "mimetype": "text/x-python",
   "name": "python",
   "nbconvert_exporter": "python",
   "pygments_lexer": "ipython3",
   "version": "3.8.8"
  }
 },
 "nbformat": 4,
 "nbformat_minor": 5
}
